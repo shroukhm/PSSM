{
  "nbformat": 4,
  "nbformat_minor": 0,
  "metadata": {
    "colab": {
      "provenance": []
    },
    "kernelspec": {
      "name": "python3",
      "display_name": "Python 3"
    },
    "language_info": {
      "name": "python"
    }
  },
  "cells": [
    {
      "cell_type": "code",
      "execution_count": 1,
      "metadata": {
        "id": "2VZ5dIlS9TgG"
      },
      "outputs": [],
      "source": [
        "import random\n",
        "import math\n",
        "\n",
        "nucleotides = [\"A\" , \"C\" , \"G\" ,\"T\" ]\n",
        "sequences = []"
      ]
    },
    {
      "cell_type": "markdown",
      "source": [
        "##Functions of PSSM"
      ],
      "metadata": {
        "id": "BLi1glED_PIh"
      }
    },
    {
      "cell_type": "code",
      "source": [
        "def PSSM(seq_num, seq_len, sequences):\n",
        "    # Create a frequency table where nucleotides_freq[j] represents the counts of A, C, G, and T at the j-th position\n",
        "    # across all sequences.\n",
        "    nucleotides_freq = [[0.0 for _ in range(len(nucleotides))] for _ in range(seq_len)]\n",
        "\n",
        "    # Iterate over each sequence\n",
        "    for sequence in sequences:\n",
        "        # Loop through each position in the sequence\n",
        "        for j in range(seq_len):\n",
        "            if sequence[j] in nucleotides:\n",
        "                # Update the count for the current nucleotide at the current position\n",
        "                nucleotides_freq[j][nucleotides.index(sequence[j])] += 1\n",
        "            else:\n",
        "                print(\"Invalid input. Please enter sequences containing only 'A', 'G', 'C', 'T' nucleotides.\")\n",
        "                return None  # Exit function if invalid nucleotide found\n",
        "\n",
        "    # Calculate overall frequencies for normalization\n",
        "    total_positions = seq_num * seq_len\n",
        "    overall_freqs = [sum(col) / total_positions for col in zip(*nucleotides_freq)]\n",
        "\n",
        "    # Normalize nucleotide counts by overall frequencies (PSSM calculation)\n",
        "    pssm_matrix = [[nucleotides_freq[j][i] / overall_freqs[i] for i in range(len(nucleotides))] for j in range(seq_len)]\n",
        "\n",
        "    # Calculate the log probabilities (base 2) from normalized frequencies\n",
        "    log_prob_freq = [[round(math.log2(max(f, 1e-10)), 1) for f in row] for row in pssm_matrix]\n",
        "\n",
        "    return log_prob_freq\n",
        "\n",
        "#Calculating the score for a new sequence based on PSSM\n",
        "\n",
        "def calc_score(new_seq, pssm_matrix):\n",
        "    score = 0.0\n",
        "    # Loop through each position and nucleotide in the sequence\n",
        "    for i, nucleotide in enumerate(new_seq):\n",
        "        if nucleotide in \"ACGT\":\n",
        "            # Find the index of the nucleotide in the nucleotides list\n",
        "            index = nucleotides.index(nucleotide)\n",
        "            # Access the log probability for the nucleotide at the corresponding position\n",
        "            log_prob = pssm_matrix[i][index]\n",
        "            # Add log probabilities\n",
        "            score += log_prob\n",
        "        else:\n",
        "            print(\"Invalid input. Please enter sequences containing only 'A', 'G', 'C', 'T' nucleotides.\")\n",
        "            return None  # Exit function if invalid nucleotide found\n",
        "    return score\n"
      ],
      "metadata": {
        "id": "8niyXFke-98o"
      },
      "execution_count": 2,
      "outputs": []
    },
    {
      "cell_type": "markdown",
      "source": [
        "###Dispaly the menu"
      ],
      "metadata": {
        "id": "-F1ydeTiAbcg"
      }
    },
    {
      "cell_type": "code",
      "source": [
        "print(\"\\nPosition-Specific Scoring Matrix ( PSSM ) Analyzer.\\n\\nChoose input method : \")\n",
        "print(\"1.Read the DNA sequences input from the file ( PSSMData.txt ).\\n2.Generate random sequences.\")\n",
        "choice = int(input(\"\\nEnter your choice : \"))\n",
        "\n",
        "# 2.Getting the DNA seq from one way based on user choice\n",
        "if choice == 1:\n",
        "    filename = \"PSSMData.txt\"\n",
        "    with open(filename, \"r\") as file:\n",
        "        print(f\"\\nReading input from the file ...\")\n",
        "        # To read the a single line ( which is the 1st one) in the filey\n",
        "        # Then, remove the whitespaces\n",
        "        # Finally, splitting the content in a list using whitespace delimiter\n",
        "        first_line = file.readline().strip().split()\n",
        "        seq_num = int(first_line[0])\n",
        "        seq_len = int(first_line[1])\n",
        "        # Read DNA sequences from the file, capitalize, and strip whitespace\n",
        "        sequences = [file.readline().upper().strip() for _ in range(seq_num)]\n",
        "        print(f\"\\nFound {seq_num} sequences of length {seq_len}.\")\n",
        "\n",
        "elif choice == 2:\n",
        "    seq_num = int(input(\"Enter the number of desired sequences ( t ) : \"))\n",
        "    seq_len = int(input(\"Enter the length of each DNA sequence ( n ) : \"))\n",
        "    print(f\"Generating {seq_num} random sequences of with length for each {seq_len}...\")\n",
        "    sequences = [\"\".join([random.choice(nucleotides) for _ in range(seq_len)]) for _ in range(seq_num)]\n",
        "\n",
        "else:\n",
        "    print(\"Invalid input. Please, enter 1 or 2.\")\n",
        "\n",
        "#3.Printing the DNA sequences\n",
        "print(\"\\nMultiple Aligned DNA sequences : \")\n",
        "for i in range(len(sequences)):\n",
        "    print(f\"Sequence {i + 1} : {sequences[i]}\")\n",
        "\n",
        "#4. Applying the PSSM Algorithm\n",
        "print(\"\\nApplying PSSM...\")\n",
        "\n",
        "pssm_matrix = PSSM(seq_num, seq_len, sequences)\n",
        "if pssm_matrix is not None:\n",
        "    print(\"\\n{:>4} {:>10} {:>10} {:>10} {:>10}\".format(\" \", \"A\", \"T\", \"C\", \"G\"))\n",
        "    for i in range(seq_num):\n",
        "        print(f\"{i + 1:>4} {pssm_matrix[i][0]:>10.3f} {pssm_matrix[i][3]:>10.3f} {pssm_matrix[i][1]:>10.3f} {pssm_matrix[i][2]:>10.3f}\")\n",
        "\n",
        "\n",
        "#5.Entering the new sequence\n",
        "new_seq = input(f\"\\nEnter a new sequence of length {seq_len} : \").upper().strip()\n",
        "if len(new_seq) != seq_len:\n",
        "    print(f\"Invalid sequence. Please enter a sequence of length {seq_len}.\")\n",
        "else:\n",
        "    # 6.Calculating the probability  of the new entered sequence joining the rest of the multiple aligned DNA sequences based on the PSSM\n",
        "    new_seq_prob = calc_score(new_seq, pssm_matrix)\n",
        "    if new_seq_prob is not None:\n",
        "        print(f\"The log probability of the new entered sequence joining the alignment: {new_seq_prob:.2f}\")"
      ],
      "metadata": {
        "colab": {
          "base_uri": "https://localhost:8080/"
        },
        "id": "oceCH1JgAiyJ",
        "outputId": "1e1a0aa8-d7b7-4acc-9787-1ff34b40f6d3"
      },
      "execution_count": 5,
      "outputs": [
        {
          "output_type": "stream",
          "name": "stdout",
          "text": [
            "\n",
            "Position-Specific Scoring Matrix ( PSSM ) Analyzer.\n",
            "\n",
            "Choose input method : \n",
            "1.Read the DNA sequences input from the file ( PSSMData.txt ).\n",
            "2.Generate random sequences.\n",
            "\n",
            "Enter your choice : 1\n",
            "\n",
            "Reading input from the file ...\n",
            "\n",
            "Found 5 sequences of length 8.\n",
            "\n",
            "Multiple Aligned DNA sequences : \n",
            "Sequence 1 : AGGTACTT\n",
            "Sequence 2 : CCATACGT\n",
            "Sequence 3 : ACGTTAGT\n",
            "Sequence 4 : ACGTCCAT\n",
            "Sequence 5 : CCGTACGG\n",
            "\n",
            "Applying PSSM...\n",
            "\n",
            "              A          T          C          G\n",
            "   1      3.700    -33.200      2.900    -33.200\n",
            "   2    -33.200    -33.200      3.900      2.200\n",
            "   3      2.200    -33.200    -33.200      4.200\n",
            "   4    -33.200      4.200    -33.200    -33.200\n",
            "   5      3.700      1.900      1.900    -33.200\n",
            "\n",
            "Enter a new sequence of length 8 : CCGTACGG\n",
            "The log probability of the new entered sequence joining the alignment: 28.70\n"
          ]
        }
      ]
    }
  ]
}